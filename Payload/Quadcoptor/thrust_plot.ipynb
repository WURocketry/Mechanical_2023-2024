{
 "cells": [
  {
   "cell_type": "code",
   "execution_count": 19,
   "metadata": {},
   "outputs": [
    {
     "name": "stdout",
     "output_type": "stream",
     "text": [
      "Time to impact:  0.2700000000000001 s\n",
      "Impact velocity:  1.1748339479999965 m/s\n",
      "Impact height:  35.80805658 m\n",
      "Acceleration:  4.608214799999998 m/s^2\n"
     ]
    }
   ],
   "source": [
    "throttle = [10*i for i in range(1, 11)]\n",
    "thrust = [29, 76, 147, 330, 460, 560, 660,750, 660, 1000]\n",
    "\n",
    "mass = 6 / 2.20462\n",
    "g = 9.81\n",
    "thrust_N = [(i * g)/1000 for i in thrust]\n",
    "\n",
    "velocity = -20  #m/s\n",
    "height = 123 / 2 #m\n",
    "time = 0\n",
    "\n",
    "force_balance = (4*thrust_N[9]) - (mass*g)\n",
    "acceleration = force_balance / mass\n",
    "\n",
    "while velocity < 0:\n",
    "    height = height + (velocity*time)\n",
    "    velocity = velocity + acceleration * time\n",
    "    time = time + 0.01\n",
    "\n",
    "print(\"Time to impact: \", time, \"s\")\n",
    "print(\"Impact velocity: \", velocity, \"m/s\")\n",
    "print(\"Impact height: \", height, \"m\")\n",
    "print(\"Acceleration: \", acceleration, \"m/s^2\")\n"
   ]
  }
 ],
 "metadata": {
  "kernelspec": {
   "display_name": "Python 3",
   "language": "python",
   "name": "python3"
  },
  "language_info": {
   "codemirror_mode": {
    "name": "ipython",
    "version": 3
   },
   "file_extension": ".py",
   "mimetype": "text/x-python",
   "name": "python",
   "nbconvert_exporter": "python",
   "pygments_lexer": "ipython3",
   "version": "3.11.0"
  }
 },
 "nbformat": 4,
 "nbformat_minor": 2
}
