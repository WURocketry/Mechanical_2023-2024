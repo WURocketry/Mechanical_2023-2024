{
 "cells": [
  {
   "cell_type": "code",
   "execution_count": 11,
   "metadata": {},
   "outputs": [
    {
     "name": "stdout",
     "output_type": "stream",
     "text": [
      "Time to impact:  4.289999999999953 s\n",
      "Impact velocity:  -4.496561369517325 m/s\n",
      "Impact height:  8.877358669232606 m\n",
      "Acceleration:  3.6138551586206895 m/s^2\n"
     ]
    }
   ],
   "source": [
    "throttle = [10*i for i in range(1, 11)]\n",
    "thrust = [29, 76, 147, 330, 460, 560, 660,750, 660, 900]\n",
    "\n",
    "mass = 5.8 / 2.20462\n",
    "g = 9.81\n",
    "thrust_N = [(i * g)/1000 for i in thrust]\n",
    "\n",
    "velocity = -15  #m/s\n",
    "height = 123 - 20 #m\n",
    "time = 0\n",
    "\n",
    "force_balance = (4*thrust_N[9]) - (mass*g)\n",
    "acceleration = force_balance / mass\n",
    "timestep = 0.01\n",
    "\n",
    "while velocity < -4.5:\n",
    "    height = height + (velocity*timestep)\n",
    "    velocity = velocity + acceleration * timestep\n",
    "    time = time + 0.01\n",
    "\n",
    "print(\"Time to impact: \", time, \"s\")\n",
    "print(\"Impact velocity: \", velocity, \"m/s\")\n",
    "print(\"Impact height: \", height, \"m\")\n",
    "print(\"Acceleration: \", acceleration, \"m/s^2\")\n"
   ]
  }
 ],
 "metadata": {
  "kernelspec": {
   "display_name": "Python 3",
   "language": "python",
   "name": "python3"
  },
  "language_info": {
   "codemirror_mode": {
    "name": "ipython",
    "version": 3
   },
   "file_extension": ".py",
   "mimetype": "text/x-python",
   "name": "python",
   "nbconvert_exporter": "python",
   "pygments_lexer": "ipython3",
   "version": "3.11.0"
  }
 },
 "nbformat": 4,
 "nbformat_minor": 2
}
